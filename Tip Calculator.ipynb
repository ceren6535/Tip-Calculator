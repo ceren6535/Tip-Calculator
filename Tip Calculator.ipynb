{
 "cells": [
  {
   "cell_type": "code",
   "execution_count": 2,
   "id": "86931a61-27bc-4676-bbf1-6b209cef8242",
   "metadata": {},
   "outputs": [
    {
     "name": "stdout",
     "output_type": "stream",
     "text": [
      "Welcome to the tip calculator!\n"
     ]
    },
    {
     "name": "stdin",
     "output_type": "stream",
     "text": [
      "What was the total bill? $ 100\n",
      "How much tip would you like to give? 10, 12, or 15?  10\n",
      "How many people to split the bill? 3\n"
     ]
    },
    {
     "name": "stdout",
     "output_type": "stream",
     "text": [
      "Each person should pay: $36.67\n"
     ]
    }
   ],
   "source": [
    "#If the bill was $150.00, split between 5 people, with 12% tip. \n",
    "#Each person should pay (150.00 / 5) * 1.12 = 33.6\n",
    "#Round the result to 2 decimal places.\n",
    "print(\"Welcome to the tip calculator!\")\n",
    "bill = float(input(\"What was the total bill? $\"))\n",
    "tip = int(input(\"How much tip would you like to give? 10, 12, or 15? \"))\n",
    "people = int(input(\"How many people to split the bill?\"))\n",
    "\n",
    "tip_as_percent = tip / 100\n",
    "total_tip_amount = bill * tip_as_percent\n",
    "total_bill = bill + total_tip_amount\n",
    "bill_per_person = total_bill / people\n",
    "final_amount = round(bill_per_person, 2)\n",
    "print(f\"Each person should pay: ${final_amount}\")\n"
   ]
  },
  {
   "cell_type": "code",
   "execution_count": null,
   "id": "4127c4fb-b4ec-4ffc-b7a8-0d6c6db17672",
   "metadata": {},
   "outputs": [],
   "source": []
  }
 ],
 "metadata": {
  "kernelspec": {
   "display_name": "Python 3 (ipykernel)",
   "language": "python",
   "name": "python3"
  },
  "language_info": {
   "codemirror_mode": {
    "name": "ipython",
    "version": 3
   },
   "file_extension": ".py",
   "mimetype": "text/x-python",
   "name": "python",
   "nbconvert_exporter": "python",
   "pygments_lexer": "ipython3",
   "version": "3.11.7"
  }
 },
 "nbformat": 4,
 "nbformat_minor": 5
}
